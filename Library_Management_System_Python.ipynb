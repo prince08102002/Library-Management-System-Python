{
  "nbformat": 4,
  "nbformat_minor": 0,
  "metadata": {
    "colab": {
      "provenance": []
    },
    "kernelspec": {
      "name": "python3",
      "display_name": "Python 3"
    },
    "language_info": {
      "name": "python"
    }
  },
  "cells": [
    {
      "cell_type": "code",
      "execution_count": 1,
      "metadata": {
        "colab": {
          "base_uri": "https://localhost:8080/"
        },
        "id": "DZlbVCQ2D8Fe",
        "outputId": "0adc6299-f16d-447a-9bf0-bbb38aa72fe7"
      },
      "outputs": [
        {
          "output_type": "stream",
          "name": "stdout",
          "text": [
            "List of available books:\n",
            "Title: Adventures of Tom Sawyer, Author: Mark Twain, Quantity: 4\n",
            "Title: The Great Gatsby, Author: F. Scott Fitzgerald, Quantity: 5\n",
            "Title: To Kill a Mockingbird, Author: Harper Lee, Quantity: 3\n",
            "Title: Gulliver’s Travels, Author: Jonathan Swift, Quantity: 7\n",
            "Title: Geetanjali, Author: Rabindranath Tagore, Quantity: 6\n",
            "Search results:\n",
            "Title: Geetanjali, Author: Rabindranath Tagore, Quantity: 6\n",
            "You have successfully borrowed 2 copies of 'Gulliver’s Travels'\n",
            "You have successfully returned 1 copies of 'Gulliver’s Travels'\n"
          ]
        }
      ],
      "source": [
        "class LibraryManagementSystem:\n",
        "    def __init__(self):\n",
        "        self.books = {}\n",
        "\n",
        "    def add_book(self, title, author, quantity):\n",
        "        if title in self.books:\n",
        "            self.books[title]['quantity'] += quantity\n",
        "        else:\n",
        "            self.books[title] = {'author': author, 'quantity': quantity}\n",
        "\n",
        "    def display_books(self):\n",
        "        print(\"List of available books:\")\n",
        "        for title, details in self.books.items():\n",
        "            print(f\"Title: {title}, Author: {details['author']}, Quantity: {details['quantity']}\")\n",
        "\n",
        "    def search_books(self, search_term):\n",
        "        search_results = [(title, details) for title, details in self.books.items()\n",
        "                          if search_term.lower() in title.lower() or search_term.lower() in details['author'].lower()]\n",
        "        if search_results:\n",
        "            print(\"Search results:\")\n",
        "            for title, details in search_results:\n",
        "                print(f\"Title: {title}, Author: {details['author']}, Quantity: {details['quantity']}\")\n",
        "        else:\n",
        "            print(\"No matching books found\")\n",
        "\n",
        "    def borrow_book(self, title, quantity):\n",
        "        if title in self.books and self.books[title]['quantity'] >= quantity:\n",
        "            self.books[title]['quantity'] -= quantity\n",
        "            print(f\"You have successfully borrowed {quantity} copies of '{title}'\")\n",
        "        else:\n",
        "            print(\"Book not available or quantity requested exceeds availability\")\n",
        "\n",
        "    def return_book(self, title, quantity):\n",
        "        if title in self.books:\n",
        "            self.books[title]['quantity'] += quantity\n",
        "            print(f\"You have successfully returned {quantity} copies of '{title}'\")\n",
        "        else:\n",
        "            print(\"Invalid book title. Please check and try again\")\n",
        "\n",
        "\n",
        "# Example Usage:\n",
        "library_system = LibraryManagementSystem()\n",
        "\n",
        "# Adding books\n",
        "library_system.add_book(\"Adventures of Tom Sawyer\", \"Mark Twain\", 4)\n",
        "library_system.add_book(\"The Great Gatsby\", \"F. Scott Fitzgerald\", 5)\n",
        "library_system.add_book(\"To Kill a Mockingbird\", \"Harper Lee\", 3)\n",
        "library_system.add_book(\"Gulliver’s Travels\", \"Jonathan Swift\", 7)\n",
        "library_system.add_book(\"Geetanjali\", \"Rabindranath Tagore\", 6)\n",
        "\n",
        "# Displaying books\n",
        "library_system.display_books()\n",
        "\n",
        "# Searching books\n",
        "library_system.search_books(\"Rabindranath Tagore\")\n",
        "\n",
        "# Borrowing books\n",
        "library_system.borrow_book(\"Gulliver’s Travels\", 2)\n",
        "\n",
        "# Returning books\n",
        "library_system.return_book(\"Gulliver’s Travels\", 1)"
      ]
    }
  ]
}